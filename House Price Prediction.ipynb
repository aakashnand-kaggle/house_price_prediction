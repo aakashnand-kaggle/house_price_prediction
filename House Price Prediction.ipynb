{
 "cells": [
  {
   "cell_type": "markdown",
   "metadata": {
    "toc": true
   },
   "source": [
    "<h1>Table of Contents<span class=\"tocSkip\"></span></h1>\n",
    "<div class=\"toc\"><ul class=\"toc-item\"><li><span><a href=\"#House-Price-Prediction\" data-toc-modified-id=\"House-Price-Prediction-1\">House Price Prediction</a></span><ul class=\"toc-item\"><li><span><a href=\"#Introduction\" data-toc-modified-id=\"Introduction-1.1\">Introduction</a></span></li><li><span><a href=\"#Understanding-the-81-Columns\" data-toc-modified-id=\"Understanding-the-81-Columns-1.2\">Understanding the 81 Columns</a></span><ul class=\"toc-item\"><li><span><a href=\"#Importing-Libraries\" data-toc-modified-id=\"Importing-Libraries-1.2.1\">Importing Libraries</a></span></li><li><span><a href=\"#Important-features-about-building\" data-toc-modified-id=\"Important-features-about-building-1.2.2\">Important features about building</a></span></li><li><span><a href=\"#Important-features-about-space-of-property\" data-toc-modified-id=\"Important-features-about-space-of-property-1.2.3\">Important features about space of property</a></span></li><li><span><a href=\"#Important-features-about-location-of-property\" data-toc-modified-id=\"Important-features-about-location-of-property-1.2.4\">Important features about location of property</a></span></li></ul></li><li><span><a href=\"#Visualization\" data-toc-modified-id=\"Visualization-1.3\">Visualization</a></span><ul class=\"toc-item\"><li><ul class=\"toc-item\"><li><span><a href=\"#Zones-vs-SalePrice-of-House\" data-toc-modified-id=\"Zones-vs-SalePrice-of-House-1.3.0.1\">Zones vs SalePrice of House</a></span></li><li><span><a href=\"#Landcantour-vs-SalePrice\" data-toc-modified-id=\"Landcantour-vs-SalePrice-1.3.0.2\">Landcantour vs SalePrice</a></span></li><li><span><a href=\"#Driveway-vs-SalePrice\" data-toc-modified-id=\"Driveway-vs-SalePrice-1.3.0.3\">Driveway vs SalePrice</a></span></li></ul></li></ul></li></ul></li></ul></div>"
   ]
  },
  {
   "cell_type": "markdown",
   "metadata": {},
   "source": [
    "# House Price Prediction \n",
    "Author : Aakash Nand\n",
    "Date 24th July 2019\n",
    "\n",
    "## Introduction\n",
    "Buying a dream home is always a difficult tasks when it comes to ameneties and convinience. This dataset has collected more than 80 such factors which could affect the decision and price of house sale. This is my second competition in which my ultimate goal is to predict the house prices. Meanwhile to achieve that I am going to try to understand the overwhelming columns.\n",
    "\n",
    "## Understanding the 81 Columns\n",
    "As I downloaded the dataset, it was quiet overwhelming to see these many columns and I was thinking may be I have selected the wrong the dataset for begineer but I will have to start somewhere anyways hence lets proceed. I tried to understand the data_description.txt given in this dataset but still was not able to come up with any idea on how to proceed. This is where Kaggle Kernels play really important role. Understanding someone else's work and replicating it is also one of the important point, hence I decided to take some inspiration from [Pedro Marcelino's](https://www.kaggle.com/pmarcelino/comprehensive-data-exploration-with-python) kernel. He had this brilliant idea to analyze each feature by category. For example, each feature can be analyzed in following ways.\n",
    "\n",
    " * <b> Type of feature: </b>  [ Numerical, Categorical ]\n",
    " * <b> Information : </b> What type of information this variable provides. Does it provide information about buidling feature? Does it provide information about space of the buidling? Does it provide information about location/accessibility of the building [ Building, Space, Location ]\n",
    " * <b> Relativity to the target feature: </b> According to our own sense, how much this variable could affect the saleprice of the house [ High, Medium, Low ] </b>\n",
    " \n",
    "I created excel sheet of all columns and analyzed them using above idea. Once this is done we can get a glimpse of all feature. Lets understand them one by one.\n",
    "\n",
    "\n"
   ]
  },
  {
   "cell_type": "markdown",
   "metadata": {},
   "source": [
    "### Importing Libraries"
   ]
  },
  {
   "cell_type": "code",
   "execution_count": 3,
   "metadata": {},
   "outputs": [],
   "source": [
    "import pandas as pd\n",
    "import numpy as np\n",
    "import matplotlib.pyplot as plt\n",
    "from matplotlib.pyplot import figure\n",
    "pd.set_option('display.max_colwidth', -1) ## display full width of column\n",
    "feature_info=pd.read_excel('feature_analysis.xlsx',usecols=list(range(0,5)))"
   ]
  },
  {
   "cell_type": "markdown",
   "metadata": {},
   "source": [
    "### Important features about building"
   ]
  },
  {
   "cell_type": "code",
   "execution_count": 2,
   "metadata": {},
   "outputs": [
    {
     "data": {
      "text/html": [
       "<div>\n",
       "<style scoped>\n",
       "    .dataframe tbody tr th:only-of-type {\n",
       "        vertical-align: middle;\n",
       "    }\n",
       "\n",
       "    .dataframe tbody tr th {\n",
       "        vertical-align: top;\n",
       "    }\n",
       "\n",
       "    .dataframe thead th {\n",
       "        text-align: right;\n",
       "    }\n",
       "</style>\n",
       "<table border=\"1\" class=\"dataframe\">\n",
       "  <thead>\n",
       "    <tr style=\"text-align: right;\">\n",
       "      <th></th>\n",
       "      <th>Variable</th>\n",
       "      <th>Type</th>\n",
       "      <th>Information</th>\n",
       "      <th>Relativity</th>\n",
       "      <th>Comment</th>\n",
       "    </tr>\n",
       "  </thead>\n",
       "  <tbody>\n",
       "    <tr>\n",
       "      <th>1</th>\n",
       "      <td>MSSubClass</td>\n",
       "      <td>categorical</td>\n",
       "      <td>building</td>\n",
       "      <td>high</td>\n",
       "      <td>Identifies the type of dwelling involved in the sale.</td>\n",
       "    </tr>\n",
       "    <tr>\n",
       "      <th>7</th>\n",
       "      <td>LotShape</td>\n",
       "      <td>categorical</td>\n",
       "      <td>building</td>\n",
       "      <td>high</td>\n",
       "      <td>General shape of property</td>\n",
       "    </tr>\n",
       "    <tr>\n",
       "      <th>9</th>\n",
       "      <td>Utilities</td>\n",
       "      <td>categorical</td>\n",
       "      <td>building</td>\n",
       "      <td>high</td>\n",
       "      <td>Type of utilities available</td>\n",
       "    </tr>\n",
       "    <tr>\n",
       "      <th>15</th>\n",
       "      <td>BldgType</td>\n",
       "      <td>categorical</td>\n",
       "      <td>building</td>\n",
       "      <td>high</td>\n",
       "      <td>Type of dwelling</td>\n",
       "    </tr>\n",
       "    <tr>\n",
       "      <th>16</th>\n",
       "      <td>HouseStyle</td>\n",
       "      <td>categorical</td>\n",
       "      <td>building</td>\n",
       "      <td>high</td>\n",
       "      <td>Style of dwelling</td>\n",
       "    </tr>\n",
       "    <tr>\n",
       "      <th>17</th>\n",
       "      <td>OverallQual</td>\n",
       "      <td>categorical</td>\n",
       "      <td>building</td>\n",
       "      <td>high</td>\n",
       "      <td>Rating of the overall material and finish of the house</td>\n",
       "    </tr>\n",
       "    <tr>\n",
       "      <th>18</th>\n",
       "      <td>OverallCond</td>\n",
       "      <td>categorical</td>\n",
       "      <td>building</td>\n",
       "      <td>high</td>\n",
       "      <td>Rating of the overall condition of the house</td>\n",
       "    </tr>\n",
       "    <tr>\n",
       "      <th>19</th>\n",
       "      <td>YearBuilt</td>\n",
       "      <td>numerical</td>\n",
       "      <td>building</td>\n",
       "      <td>high</td>\n",
       "      <td>Original construction date</td>\n",
       "    </tr>\n",
       "    <tr>\n",
       "      <th>20</th>\n",
       "      <td>YearRemodAdd</td>\n",
       "      <td>numerical</td>\n",
       "      <td>building</td>\n",
       "      <td>high</td>\n",
       "      <td>Remodel date (same as construction date if no remodeling or additions)</td>\n",
       "    </tr>\n",
       "    <tr>\n",
       "      <th>21</th>\n",
       "      <td>RoofStyle</td>\n",
       "      <td>categorical</td>\n",
       "      <td>building</td>\n",
       "      <td>high</td>\n",
       "      <td>Type of roof</td>\n",
       "    </tr>\n",
       "    <tr>\n",
       "      <th>25</th>\n",
       "      <td>MasVnrType</td>\n",
       "      <td>categorical</td>\n",
       "      <td>building</td>\n",
       "      <td>high</td>\n",
       "      <td>Masonry veneer type</td>\n",
       "    </tr>\n",
       "    <tr>\n",
       "      <th>27</th>\n",
       "      <td>ExterQual</td>\n",
       "      <td>categorical</td>\n",
       "      <td>building</td>\n",
       "      <td>high</td>\n",
       "      <td>Evaluates the quality of the material on the exterior</td>\n",
       "    </tr>\n",
       "    <tr>\n",
       "      <th>28</th>\n",
       "      <td>ExterCond</td>\n",
       "      <td>categorical</td>\n",
       "      <td>building</td>\n",
       "      <td>high</td>\n",
       "      <td>Evaluates the present condition of the material on the exterior</td>\n",
       "    </tr>\n",
       "    <tr>\n",
       "      <th>30</th>\n",
       "      <td>BsmtQual</td>\n",
       "      <td>categorical</td>\n",
       "      <td>building</td>\n",
       "      <td>high</td>\n",
       "      <td>Evaluates the height of the basement</td>\n",
       "    </tr>\n",
       "    <tr>\n",
       "      <th>31</th>\n",
       "      <td>BsmtCond</td>\n",
       "      <td>categorical</td>\n",
       "      <td>building</td>\n",
       "      <td>high</td>\n",
       "      <td>Evaluates the general condition of the basement</td>\n",
       "    </tr>\n",
       "    <tr>\n",
       "      <th>39</th>\n",
       "      <td>Heating</td>\n",
       "      <td>categorical</td>\n",
       "      <td>building</td>\n",
       "      <td>high</td>\n",
       "      <td>Type of heating</td>\n",
       "    </tr>\n",
       "    <tr>\n",
       "      <th>40</th>\n",
       "      <td>HeatingQC</td>\n",
       "      <td>categorical</td>\n",
       "      <td>building</td>\n",
       "      <td>high</td>\n",
       "      <td>Quality of heating</td>\n",
       "    </tr>\n",
       "    <tr>\n",
       "      <th>41</th>\n",
       "      <td>CentralAir</td>\n",
       "      <td>categorical</td>\n",
       "      <td>building</td>\n",
       "      <td>high</td>\n",
       "      <td>Presence of central air conditioning system</td>\n",
       "    </tr>\n",
       "    <tr>\n",
       "      <th>42</th>\n",
       "      <td>Electrical</td>\n",
       "      <td>categorical</td>\n",
       "      <td>building</td>\n",
       "      <td>high</td>\n",
       "      <td>Presence of Electrical system</td>\n",
       "    </tr>\n",
       "    <tr>\n",
       "      <th>49</th>\n",
       "      <td>FullBath</td>\n",
       "      <td>numerical</td>\n",
       "      <td>building</td>\n",
       "      <td>high</td>\n",
       "      <td>Full bathrooms above grade</td>\n",
       "    </tr>\n",
       "    <tr>\n",
       "      <th>51</th>\n",
       "      <td>BedroomAbvGr</td>\n",
       "      <td>numerical</td>\n",
       "      <td>building</td>\n",
       "      <td>high</td>\n",
       "      <td>Bedrooms above grade (does NOT include basement bedrooms)</td>\n",
       "    </tr>\n",
       "    <tr>\n",
       "      <th>52</th>\n",
       "      <td>KitchenAbvGr</td>\n",
       "      <td>numerical</td>\n",
       "      <td>building</td>\n",
       "      <td>high</td>\n",
       "      <td>Kitchens above grade</td>\n",
       "    </tr>\n",
       "    <tr>\n",
       "      <th>53</th>\n",
       "      <td>KitchenQual</td>\n",
       "      <td>categorical</td>\n",
       "      <td>building</td>\n",
       "      <td>high</td>\n",
       "      <td>Kitchen quality</td>\n",
       "    </tr>\n",
       "    <tr>\n",
       "      <th>54</th>\n",
       "      <td>TotRmsAbvGrd</td>\n",
       "      <td>numerical</td>\n",
       "      <td>building</td>\n",
       "      <td>high</td>\n",
       "      <td>Total rooms above grade (does not include bathrooms)</td>\n",
       "    </tr>\n",
       "    <tr>\n",
       "      <th>55</th>\n",
       "      <td>Functional</td>\n",
       "      <td>categorical</td>\n",
       "      <td>building</td>\n",
       "      <td>high</td>\n",
       "      <td>Home functionality (Assume typical unless deductions are warranted)</td>\n",
       "    </tr>\n",
       "    <tr>\n",
       "      <th>63</th>\n",
       "      <td>GarageQual</td>\n",
       "      <td>categorical</td>\n",
       "      <td>building</td>\n",
       "      <td>high</td>\n",
       "      <td>Garage quality</td>\n",
       "    </tr>\n",
       "    <tr>\n",
       "      <th>64</th>\n",
       "      <td>GarageCond</td>\n",
       "      <td>categorical</td>\n",
       "      <td>building</td>\n",
       "      <td>high</td>\n",
       "      <td>Garage Condition</td>\n",
       "    </tr>\n",
       "    <tr>\n",
       "      <th>72</th>\n",
       "      <td>PoolQC</td>\n",
       "      <td>categorical</td>\n",
       "      <td>building</td>\n",
       "      <td>high</td>\n",
       "      <td>Pool Quality</td>\n",
       "    </tr>\n",
       "    <tr>\n",
       "      <th>73</th>\n",
       "      <td>Fence</td>\n",
       "      <td>categorical</td>\n",
       "      <td>building</td>\n",
       "      <td>high</td>\n",
       "      <td>Fence quality (The variable name should be changed to fenceQC)</td>\n",
       "    </tr>\n",
       "    <tr>\n",
       "      <th>78</th>\n",
       "      <td>SaleType</td>\n",
       "      <td>categorical</td>\n",
       "      <td>building</td>\n",
       "      <td>high</td>\n",
       "      <td>Type of sale</td>\n",
       "    </tr>\n",
       "    <tr>\n",
       "      <th>80</th>\n",
       "      <td>SalePrice</td>\n",
       "      <td>numerical</td>\n",
       "      <td>building</td>\n",
       "      <td>high</td>\n",
       "      <td>Target Variable</td>\n",
       "    </tr>\n",
       "  </tbody>\n",
       "</table>\n",
       "</div>"
      ],
      "text/plain": [
       "        Variable         Type Information Relativity  \\\n",
       "1   MSSubClass    categorical  building    high        \n",
       "7   LotShape      categorical  building    high        \n",
       "9   Utilities     categorical  building    high        \n",
       "15  BldgType      categorical  building    high        \n",
       "16  HouseStyle    categorical  building    high        \n",
       "17  OverallQual   categorical  building    high        \n",
       "18  OverallCond   categorical  building    high        \n",
       "19  YearBuilt     numerical    building    high        \n",
       "20  YearRemodAdd  numerical    building    high        \n",
       "21  RoofStyle     categorical  building    high        \n",
       "25  MasVnrType    categorical  building    high        \n",
       "27  ExterQual     categorical  building    high        \n",
       "28  ExterCond     categorical  building    high        \n",
       "30  BsmtQual      categorical  building    high        \n",
       "31  BsmtCond      categorical  building    high        \n",
       "39  Heating       categorical  building    high        \n",
       "40  HeatingQC     categorical  building    high        \n",
       "41  CentralAir    categorical  building    high        \n",
       "42  Electrical    categorical  building    high        \n",
       "49  FullBath      numerical    building    high        \n",
       "51  BedroomAbvGr  numerical    building    high        \n",
       "52  KitchenAbvGr  numerical    building    high        \n",
       "53  KitchenQual   categorical  building    high        \n",
       "54  TotRmsAbvGrd  numerical    building    high        \n",
       "55  Functional    categorical  building    high        \n",
       "63  GarageQual    categorical  building    high        \n",
       "64  GarageCond    categorical  building    high        \n",
       "72  PoolQC        categorical  building    high        \n",
       "73  Fence         categorical  building    high        \n",
       "78  SaleType      categorical  building    high        \n",
       "80  SalePrice     numerical    building    high        \n",
       "\n",
       "                                                                   Comment  \n",
       "1   Identifies the type of dwelling involved in the sale.                   \n",
       "7   General shape of property                                               \n",
       "9   Type of utilities available                                             \n",
       "15  Type of dwelling                                                        \n",
       "16  Style of dwelling                                                       \n",
       "17  Rating of the overall material and finish of the house                  \n",
       "18  Rating of the overall condition of the house                            \n",
       "19  Original construction date                                              \n",
       "20  Remodel date (same as construction date if no remodeling or additions)  \n",
       "21  Type of roof                                                            \n",
       "25  Masonry veneer type                                                     \n",
       "27  Evaluates the quality of the material on the exterior                   \n",
       "28  Evaluates the present condition of the material on the exterior         \n",
       "30  Evaluates the height of the basement                                    \n",
       "31  Evaluates the general condition of the basement                         \n",
       "39  Type of heating                                                         \n",
       "40  Quality of heating                                                      \n",
       "41  Presence of central air conditioning system                             \n",
       "42  Presence of Electrical system                                           \n",
       "49  Full bathrooms above grade                                              \n",
       "51  Bedrooms above grade (does NOT include basement bedrooms)               \n",
       "52  Kitchens above grade                                                    \n",
       "53  Kitchen quality                                                         \n",
       "54  Total rooms above grade (does not include bathrooms)                    \n",
       "55  Home functionality (Assume typical unless deductions are warranted)     \n",
       "63  Garage quality                                                          \n",
       "64  Garage Condition                                                        \n",
       "72  Pool Quality                                                            \n",
       "73   Fence quality (The variable name should be changed to fenceQC)         \n",
       "78  Type of sale                                                            \n",
       "80  Target Variable                                                         "
      ]
     },
     "execution_count": 2,
     "metadata": {},
     "output_type": "execute_result"
    }
   ],
   "source": [
    "feature_info[(feature_info.Information=='building')&(feature_info.Relativity=='high')]"
   ]
  },
  {
   "cell_type": "markdown",
   "metadata": {},
   "source": [
    "### Important features about space of property "
   ]
  },
  {
   "cell_type": "code",
   "execution_count": 3,
   "metadata": {},
   "outputs": [
    {
     "data": {
      "text/html": [
       "<div>\n",
       "<style scoped>\n",
       "    .dataframe tbody tr th:only-of-type {\n",
       "        vertical-align: middle;\n",
       "    }\n",
       "\n",
       "    .dataframe tbody tr th {\n",
       "        vertical-align: top;\n",
       "    }\n",
       "\n",
       "    .dataframe thead th {\n",
       "        text-align: right;\n",
       "    }\n",
       "</style>\n",
       "<table border=\"1\" class=\"dataframe\">\n",
       "  <thead>\n",
       "    <tr style=\"text-align: right;\">\n",
       "      <th></th>\n",
       "      <th>Variable</th>\n",
       "      <th>Type</th>\n",
       "      <th>Information</th>\n",
       "      <th>Relativity</th>\n",
       "      <th>Comment</th>\n",
       "    </tr>\n",
       "  </thead>\n",
       "  <tbody>\n",
       "    <tr>\n",
       "      <th>4</th>\n",
       "      <td>LotArea</td>\n",
       "      <td>numerical</td>\n",
       "      <td>space</td>\n",
       "      <td>high</td>\n",
       "      <td>Lot size in square feet</td>\n",
       "    </tr>\n",
       "    <tr>\n",
       "      <th>46</th>\n",
       "      <td>GrLivArea</td>\n",
       "      <td>numerical</td>\n",
       "      <td>space</td>\n",
       "      <td>high</td>\n",
       "      <td>Above grade (ground) living area square feet</td>\n",
       "    </tr>\n",
       "    <tr>\n",
       "      <th>61</th>\n",
       "      <td>GarageCars</td>\n",
       "      <td>numerical</td>\n",
       "      <td>space</td>\n",
       "      <td>high</td>\n",
       "      <td>Size of garage in car capacity</td>\n",
       "    </tr>\n",
       "    <tr>\n",
       "      <th>62</th>\n",
       "      <td>GarageArea</td>\n",
       "      <td>numerical</td>\n",
       "      <td>space</td>\n",
       "      <td>high</td>\n",
       "      <td>Size of garage in square feet</td>\n",
       "    </tr>\n",
       "    <tr>\n",
       "      <th>69</th>\n",
       "      <td>3SsnPorch</td>\n",
       "      <td>numerical</td>\n",
       "      <td>space</td>\n",
       "      <td>high</td>\n",
       "      <td>This variable describes the area of space which is similar to Veranda</td>\n",
       "    </tr>\n",
       "    <tr>\n",
       "      <th>70</th>\n",
       "      <td>ScreenPorch</td>\n",
       "      <td>numerical</td>\n",
       "      <td>space</td>\n",
       "      <td>high</td>\n",
       "      <td>Screen porch area in square feet</td>\n",
       "    </tr>\n",
       "  </tbody>\n",
       "</table>\n",
       "</div>"
      ],
      "text/plain": [
       "       Variable       Type Information Relativity  \\\n",
       "4   LotArea      numerical  space       high        \n",
       "46  GrLivArea    numerical  space       high        \n",
       "61  GarageCars   numerical  space       high        \n",
       "62  GarageArea   numerical  space       high        \n",
       "69  3SsnPorch    numerical  space       high        \n",
       "70  ScreenPorch  numerical  space       high        \n",
       "\n",
       "                                                                  Comment  \n",
       "4   Lot size in square feet                                                \n",
       "46  Above grade (ground) living area square feet                           \n",
       "61  Size of garage in car capacity                                         \n",
       "62  Size of garage in square feet                                          \n",
       "69  This variable describes the area of space which is similar to Veranda  \n",
       "70  Screen porch area in square feet                                       "
      ]
     },
     "execution_count": 3,
     "metadata": {},
     "output_type": "execute_result"
    }
   ],
   "source": [
    "feature_info[(feature_info.Information=='space')&(feature_info.Relativity=='high')]"
   ]
  },
  {
   "cell_type": "markdown",
   "metadata": {},
   "source": [
    "### Important features about location of property"
   ]
  },
  {
   "cell_type": "code",
   "execution_count": 4,
   "metadata": {},
   "outputs": [
    {
     "data": {
      "text/html": [
       "<div>\n",
       "<style scoped>\n",
       "    .dataframe tbody tr th:only-of-type {\n",
       "        vertical-align: middle;\n",
       "    }\n",
       "\n",
       "    .dataframe tbody tr th {\n",
       "        vertical-align: top;\n",
       "    }\n",
       "\n",
       "    .dataframe thead th {\n",
       "        text-align: right;\n",
       "    }\n",
       "</style>\n",
       "<table border=\"1\" class=\"dataframe\">\n",
       "  <thead>\n",
       "    <tr style=\"text-align: right;\">\n",
       "      <th></th>\n",
       "      <th>Variable</th>\n",
       "      <th>Type</th>\n",
       "      <th>Information</th>\n",
       "      <th>Relativity</th>\n",
       "      <th>Comment</th>\n",
       "    </tr>\n",
       "  </thead>\n",
       "  <tbody>\n",
       "    <tr>\n",
       "      <th>2</th>\n",
       "      <td>MSZoning</td>\n",
       "      <td>categorical</td>\n",
       "      <td>location</td>\n",
       "      <td>high</td>\n",
       "      <td>Identifies the general zoning classification of the sale.</td>\n",
       "    </tr>\n",
       "    <tr>\n",
       "      <th>8</th>\n",
       "      <td>LandContour</td>\n",
       "      <td>categorical</td>\n",
       "      <td>location</td>\n",
       "      <td>high</td>\n",
       "      <td>Flatness of the property</td>\n",
       "    </tr>\n",
       "    <tr>\n",
       "      <th>65</th>\n",
       "      <td>PavedDrive</td>\n",
       "      <td>categorical</td>\n",
       "      <td>location</td>\n",
       "      <td>high</td>\n",
       "      <td>Paved driveway</td>\n",
       "    </tr>\n",
       "  </tbody>\n",
       "</table>\n",
       "</div>"
      ],
      "text/plain": [
       "       Variable         Type Information Relativity  \\\n",
       "2   MSZoning     categorical  location    high        \n",
       "8   LandContour  categorical  location    high        \n",
       "65  PavedDrive   categorical  location    high        \n",
       "\n",
       "                                                      Comment  \n",
       "2   Identifies the general zoning classification of the sale.  \n",
       "8   Flatness of the property                                   \n",
       "65  Paved driveway                                             "
      ]
     },
     "execution_count": 4,
     "metadata": {},
     "output_type": "execute_result"
    }
   ],
   "source": [
    "feature_info[(feature_info.Information=='location')&(feature_info.Relativity=='high')]"
   ]
  },
  {
   "cell_type": "markdown",
   "metadata": {},
   "source": [
    "From the above we reduced our focus on total 49 features which are important. Next we will try to visualize them using matplotlib and see their relationship with SalesPrice."
   ]
  },
  {
   "cell_type": "markdown",
   "metadata": {},
   "source": [
    "## Visualization\n",
    "Lets load the training dataset in train dataframe. We will create visulization mainly from above features. Lets start with `Location` then `Space` and then finally, `Building`"
   ]
  },
  {
   "cell_type": "markdown",
   "metadata": {},
   "source": [
    "#### Zones vs SalePrice of House"
   ]
  },
  {
   "cell_type": "code",
   "execution_count": 4,
   "metadata": {
    "scrolled": false
   },
   "outputs": [
    {
     "data": {
      "text/plain": [
       "([<matplotlib.axis.XTick at 0x11e3a1cc0>,\n",
       "  <matplotlib.axis.XTick at 0x11e3a15f8>,\n",
       "  <matplotlib.axis.XTick at 0x11e3a1320>,\n",
       "  <matplotlib.axis.XTick at 0x11e3d1278>,\n",
       "  <matplotlib.axis.XTick at 0x11e3d1748>],\n",
       " <a list of 5 Text xticklabel objects>)"
      ]
     },
     "execution_count": 4,
     "metadata": {},
     "output_type": "execute_result"
    },
    {
     "data": {
      "image/png": "[encoded data removed]",
      "text/plain": [
       "<Figure size 648x648 with 1 Axes>"
      ]
     },
     "metadata": {
      "needs_background": "light"
     },
     "output_type": "display_data"
    }
   ],
   "source": [
    "train=pd.read_csv(\"./data/train.csv\")\n",
    "figure(figsize=(9,9))\n",
    "plt.scatter(x='MSZoning',y='SalePrice',data=train,alpha=0.8,facecolor='none',edgecolors='blue',s=55)\n",
    "plt.title(\"Zones vs SalePrice\")\n",
    "plt.xlabel('Zones')\n",
    "plt.ylabel('Selling Price of House')\n",
    "plt.xticks(ticks=range(0,5),labels=['Residential Low Density','Residential Medium Density','Commercial','Floating Village Residential','Residential High Density'],rotation=40,ha=\"right\")"
   ]
  },
  {
   "cell_type": "markdown",
   "metadata": {},
   "source": [
    "#### Landcantour vs SalePrice"
   ]
  },
  {
   "cell_type": "code",
   "execution_count": 6,
   "metadata": {},
   "outputs": [
    {
     "data": {
      "text/plain": [
       "([<matplotlib.axis.XTick at 0x11f5c44e0>,\n",
       "  <matplotlib.axis.XTick at 0x11f5e02b0>,\n",
       "  <matplotlib.axis.XTick at 0x11f5e0e48>,\n",
       "  <matplotlib.axis.XTick at 0x11f630940>],\n",
       " <a list of 4 Text xticklabel objects>)"
      ]
     },
     "execution_count": 6,
     "metadata": {},
     "output_type": "execute_result"
    },
    {
     "data": {
      "image/png": "[encoded data removed]",
      "text/plain": [
       "<Figure size 648x648 with 1 Axes>"
      ]
     },
     "metadata": {
      "needs_background": "light"
     },
     "output_type": "display_data"
    }
   ],
   "source": [
    "figure(figsize=(9,9))\n",
    "plt.scatter(x='LandContour',y='SalePrice',data=train,alpha=0.8,facecolor='none',edgecolors='blue',s=55)\n",
    "plt.title(\"Land Contours vs SalePrice\")\n",
    "plt.xlabel('Slope postion of house')\n",
    "plt.ylabel('Selling Price of House')\n",
    "plt.xticks(ticks=range(0,4),labels=['Flat Level','Positive Slope','Hillside','Negative Slope'],rotation=20,ha=\"right\")"
   ]
  },
  {
   "cell_type": "markdown",
   "metadata": {},
   "source": [
    "#### Driveway vs SalePrice"
   ]
  },
  {
   "cell_type": "code",
   "execution_count": 9,
   "metadata": {},
   "outputs": [
    {
     "data": {
      "text/plain": [
       "([<matplotlib.axis.XTick at 0x11f832da0>,\n",
       "  <matplotlib.axis.XTick at 0x11f64ebe0>,\n",
       "  <matplotlib.axis.XTick at 0x11f64ee80>],\n",
       " <a list of 3 Text xticklabel objects>)"
      ]
     },
     "execution_count": 9,
     "metadata": {},
     "output_type": "execute_result"
    },
    {
     "data": {
      "image/png": "[encoded data removed]",
      "text/plain": [
       "<Figure size 648x648 with 1 Axes>"
      ]
     },
     "metadata": {
      "needs_background": "light"
     },
     "output_type": "display_data"
    }
   ],
   "source": [
    "figure(figsize=(9,9))\n",
    "plt.scatter(x='PavedDrive',y='SalePrice',data=train,alpha=0.8,facecolor='none',edgecolors='blue',s=55)\n",
    "plt.title(\"Driveways vs SalePrice\")\n",
    "plt.xlabel('Driveway type of house')\n",
    "plt.ylabel('Selling Price of House')\n",
    "plt.xticks(ticks=range(0,3),labels=['Paved','Partially Paved','Dirt'])"
   ]
  },
  {
   "cell_type": "code",
   "execution_count": null,
   "metadata": {},
   "outputs": [],
   "source": []
  }
 ],
 "metadata": {
  "kernelspec": {
   "display_name": "Python 3",
   "language": "python",
   "name": "python3"
  },
  "language_info": {
   "codemirror_mode": {
    "name": "ipython",
    "version": 3
   },
   "file_extension": ".py",
   "mimetype": "text/x-python",
   "name": "python",
   "nbconvert_exporter": "python",
   "pygments_lexer": "ipython3",
   "version": "3.6.6"
  },
  "toc": {
   "base_numbering": 1,
   "nav_menu": {
    "height": "192px",
    "width": "415px"
   },
   "number_sections": false,
   "sideBar": true,
   "skip_h1_title": false,
   "title_cell": "Table of Contents",
   "title_sidebar": "Contents",
   "toc_cell": true,
   "toc_position": {
    "height": "192px",
    "left": "909px",
    "top": "187px",
    "width": "217px"
   },
   "toc_section_display": true,
   "toc_window_display": true
  }
 },
 "nbformat": 4,
 "nbformat_minor": 2
}
